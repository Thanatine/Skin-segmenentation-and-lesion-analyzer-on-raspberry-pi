{
 "cells": [
  {
   "cell_type": "code",
   "execution_count": 4,
   "metadata": {},
   "outputs": [],
   "source": [
    "import tensorflow as tf"
   ]
  },
  {
   "cell_type": "code",
   "execution_count": 5,
   "metadata": {},
   "outputs": [],
   "source": [
    "from __future__ import absolute_import, division, print_function, unicode_literals\n",
    "from tensorflow_examples.models.pix2pix import pix2pix\n",
    "\n",
    "# import tensorflow_datasets as tfds\n",
    "# tfds.disable_progress_bar()\n",
    "\n",
    "# from IPython.display import clear_output\n",
    "import matplotlib.pyplot as plt"
   ]
  },
  {
   "cell_type": "code",
   "execution_count": 6,
   "metadata": {},
   "outputs": [],
   "source": [
    "from __future__ import print_function\n",
    "import os\n",
    "import numpy as np\n",
    "import skimage\n",
    "from skimage import data, draw\n",
    "from skimage import transform, util\n",
    "import cv2\n",
    "data_path = '../../Documents/ISIC2018-Segementation/'\n",
    "\n",
    "image_rows = 420\n",
    "image_cols = 580"
   ]
  },
  {
   "cell_type": "code",
   "execution_count": 7,
   "metadata": {},
   "outputs": [],
   "source": [
    "def create_train_data():\n",
    "    train_data_path = os.path.join(data_path, 'train/')\n",
    "    images = sorted(os.listdir(train_data_path))\n",
    "    total = len(images)\n",
    "    imgs = np.ndarray((total, image_rows, image_cols, 1), dtype=np.uint8)\n",
    "\n",
    "    i = 0\n",
    "    print('-'*30)\n",
    "    print('Creating train images...')\n",
    "    print('-'*30)\n",
    "    for image_name in images:\n",
    "        # Read RGB image\n",
    "        img = cv2.imread(os.path.join(train_data_path, image_name))\n",
    "        # Convert to grayscale\n",
    "        gray_image = cv2.cvtColor(img, cv2.COLOR_BGR2GRAY)\n",
    "        # Rescale to image_rows x image_cols size\n",
    "        resized_image = cv2.resize(gray_image, (image_cols, image_rows))\n",
    "        resized_image = resized_image.reshape(resized_image.shape + (1,))\n",
    "        img = np.array(resized_image)\n",
    "        imgs[i] = img\n",
    "        print('Done: {0}/{1} images'.format(i, total))\n",
    "        i += 1\n",
    "    print('Loading done.')\n",
    "\n",
    "    np.save('imgs_train.npy', imgs)\n",
    "    print('Saving to .npy files done.')\n",
    "\n",
    "def create_train_masks_data():\n",
    "    train_masks_data_path = os.path.join(data_path, 'train_masks/')\n",
    "    images = sorted(os.listdir(train_masks_data_path))\n",
    "    total = len(images)\n",
    "\n",
    "    imgs = np.ndarray((total, image_rows, image_cols, 1), dtype=np.uint8)\n",
    "\n",
    "    i = 0\n",
    "    print('-'*30)\n",
    "    print('Creating train masks images...')\n",
    "    print('-'*30)\n",
    "    for image_name in images:\n",
    "#         print(image_name)\n",
    "        # Read RGB image\n",
    "        img = cv2.imread(os.path.join(train_masks_data_path, image_name))\n",
    "\n",
    "        # Convert to grayscale\n",
    "        gray_image = cv2.cvtColor(img, cv2.COLOR_BGR2GRAY)\n",
    "\n",
    "        # Rescale to image_rows x image_cols size\n",
    "        resized_image = cv2.resize(gray_image, (image_cols, image_rows))\n",
    "        resized_image = resized_image.reshape(resized_image.shape + (1,))\n",
    "        img = np.array(resized_image)\n",
    "\n",
    "        img = np.array([img])\n",
    "\n",
    "        imgs[i] = img\n",
    "\n",
    "        print('Done: {0}/{1} images'.format(i, total))\n",
    "        i += 1\n",
    "    print('Loading done.')\n",
    "\n",
    "    np.save('imgs_mask_train.npy', imgs)\n",
    "    print('Saving to .npy files done.')\n",
    "\n",
    "def load_train_data():\n",
    "    imgs_train = np.load('imgs_train.npy')\n",
    "    imgs_mask_train = np.load('imgs_mask_train.npy')\n",
    "    return imgs_train, imgs_mask_train\n",
    "\n",
    "# create_train_data()\n",
    "# create_train_masks_data()"
   ]
  },
  {
   "cell_type": "code",
   "execution_count": 8,
   "metadata": {},
   "outputs": [],
   "source": [
    "# from keras import backend as K\n",
    "import tensorflow.keras.backend as K\n",
    "\n",
    "img_rows = 64*3 #193\n",
    "img_cols = 80*3 #240\n",
    "\n",
    "#img_rows = 420\n",
    "#img_cols = 580\n",
    "\n",
    "def dice_coef(y_true, y_pred):\n",
    "    y_true_f = K.flatten(y_true)\n",
    "    y_pred_f = K.flatten(y_pred)\n",
    "    intersection = K.sum(y_true_f * y_pred_f)\n",
    "    return (2. * intersection + smooth) / (K.sum(y_true_f) + K.sum(y_pred_f) + smooth)\n",
    "\n",
    "\n",
    "def dice_coef_loss(y_true, y_pred):\n",
    "    return -dice_coef(y_true, y_pred)\n",
    "\n",
    "def preprocess(imgs):\n",
    "    imgs_p = np.ndarray((imgs.shape[0], img_rows, img_cols, 1), dtype=np.uint8)\n",
    "    for i in range(imgs.shape[0]):\n",
    "        resized_image = cv2.resize(imgs[i], (img_cols, img_rows), interpolation=cv2.INTER_CUBIC)\n",
    "        imgs_p[i] = resized_image.reshape(resized_image.shape + (1,))\n",
    "    return imgs_p"
   ]
  },
  {
   "cell_type": "code",
   "execution_count": 9,
   "metadata": {},
   "outputs": [],
   "source": [
    "from sklearn.model_selection import train_test_split\n",
    "\n",
    "train, mask = load_train_data()\n",
    "train = preprocess(train)\n",
    "mask = preprocess(mask)\n",
    "\n",
    "train = train.astype('float32')\n",
    "mean = np.mean(train)  # mean for data centering\n",
    "std = np.std(train)  # std for data normalization\n",
    "\n",
    "train -= mean\n",
    "train /= std\n",
    "\n",
    "mask = mask.astype('float32')\n",
    "mask /= 255.  # scale masks to [0, 1]\n",
    "\n",
    "X_train, X_test, y_train, y_test = train_test_split(train, mask, test_size=0.2, random_state=42)"
   ]
  },
  {
   "cell_type": "code",
   "execution_count": 10,
   "metadata": {},
   "outputs": [
    {
     "data": {
      "text/plain": [
       "2594"
      ]
     },
     "execution_count": 10,
     "metadata": {},
     "output_type": "execute_result"
    }
   ],
   "source": [
    "len(train)"
   ]
  },
  {
   "cell_type": "code",
   "execution_count": 7,
   "metadata": {
    "scrolled": true
   },
   "outputs": [
    {
     "data": {
      "image/png": "[encoded data removed]",
      "text/plain": [
       "<Figure size 432x288 with 1 Axes>"
      ]
     },
     "metadata": {
      "needs_background": "light"
     },
     "output_type": "display_data"
    },
    {
     "data": {
      "image/png": "[encoded data removed]",
      "text/plain": [
       "<Figure size 432x288 with 1 Axes>"
      ]
     },
     "metadata": {
      "needs_background": "light"
     },
     "output_type": "display_data"
    }
   ],
   "source": [
    "import random\n",
    "\n",
    "img_index = random.randint(0, len(X_train))\n",
    "\n",
    "plt.imshow(X_train[img_index].reshape(img_rows, img_cols), cmap='gray')\n",
    "plt.show()\n",
    "\n",
    "plt.imshow(y_train[img_index].reshape(img_rows, img_cols), cmap='gray')\n",
    "plt.show()"
   ]
  },
  {
   "cell_type": "code",
   "execution_count": 2,
   "metadata": {},
   "outputs": [],
   "source": [
    "import cv2\n",
    "import numpy as np\n",
    "from tensorflow.keras import Model\n",
    "from tensorflow.keras.layers import Input, Convolution2D, MaxPooling2D, UpSampling2D, Concatenate\n",
    "from tensorflow.keras.optimizers import Adam\n",
    "from tensorflow.keras.callbacks import ModelCheckpoint, LearningRateScheduler\n",
    "from tensorflow.keras.callbacks import EarlyStopping, ReduceLROnPlateau\n",
    "\n",
    "def get_unet():\n",
    "    concat_axis = 3\n",
    "    \n",
    "    inputs = Input(shape=[img_rows, img_cols, 1])\n",
    "    conv1 = Convolution2D(32, (3, 3), activation='relu', padding='same')(inputs)\n",
    "    conv1 = Convolution2D(32, (3, 3), activation='relu', padding='same')(conv1)\n",
    "    pool1 = MaxPooling2D(pool_size=(2, 2))(conv1)\n",
    "\n",
    "    conv2 = Convolution2D(64, (3, 3), activation='relu', padding='same')(pool1)\n",
    "    conv2 = Convolution2D(64, (3, 3), activation='relu', padding='same')(conv2)\n",
    "    pool2 = MaxPooling2D(pool_size=(2, 2))(conv2)\n",
    "\n",
    "    conv3 = Convolution2D(128, (3, 3), activation='relu', padding='same')(pool2)\n",
    "    conv3 = Convolution2D(128, (3, 3), activation='relu', padding='same')(conv3)\n",
    "    pool3 = MaxPooling2D(pool_size=(2, 2))(conv3)\n",
    "\n",
    "    conv4 = Convolution2D(256, (3, 3), activation='relu', padding='same')(pool3)\n",
    "    conv4 = Convolution2D(256, (3, 3), activation='relu', padding='same')(conv4)\n",
    "    pool4 = MaxPooling2D(pool_size=(2, 2))(conv4)\n",
    "\n",
    "    conv5 = Convolution2D(512, (3, 3), activation='relu', padding='same')(pool4)\n",
    "    conv5 = Convolution2D(512, (3, 3), activation='relu', padding='same')(conv5)\n",
    "\n",
    "#     up6 = merge([UpSampling2D(size=(2, 2))(conv5), conv4], mode='concat', concat_axis=1)\n",
    "    up6 = Concatenate(axis=concat_axis)([UpSampling2D(size=(2, 2))(conv5), conv4])\n",
    "    conv6 = Convolution2D(256, (3, 3), activation='relu', padding='same')(up6)\n",
    "    conv6 = Convolution2D(256, (3, 3), activation='relu', padding='same')(conv6)\n",
    "\n",
    "#     up7 = merge([UpSampling2D(size=(2, 2))(conv6), conv3], mode='concat', concat_axis=1)\n",
    "    up7 = Concatenate(axis=concat_axis)([UpSampling2D(size=(2, 2))(conv6), conv3])\n",
    "    conv7 = Convolution2D(128, (3, 3), activation='relu', padding='same')(up7)\n",
    "    conv7 = Convolution2D(128, (3, 3), activation='relu', padding='same')(conv7)\n",
    "\n",
    "#     up8 = merge([UpSampling2D(size=(2, 2))(conv7), conv2], mode='concat', concat_axis=1)\n",
    "    up8 = Concatenate(axis=concat_axis)([UpSampling2D(size=(2, 2))(conv7), conv2])\n",
    "    conv8 = Convolution2D(64, (3, 3), activation='relu', padding='same')(up8)\n",
    "    conv8 = Convolution2D(64, (3, 3), activation='relu', padding='same')(conv8)\n",
    "\n",
    "#     up9 = merge([UpSampling2D(size=(2, 2))(conv8), conv1], mode='concat', concat_axis=1)\n",
    "    up9 = Concatenate(axis=concat_axis)([UpSampling2D(size=(2, 2))(conv8), conv1])\n",
    "    conv9 = Convolution2D(32, (3, 3), activation='relu', padding='same')(up9)\n",
    "    conv9 = Convolution2D(32, (3, 3), activation='relu', padding='same')(conv9)\n",
    "\n",
    "    conv10 = Convolution2D(1, (1, 1), activation='sigmoid')(conv9)\n",
    "\n",
    "    model = Model(inputs=inputs, outputs=conv10)\n",
    "\n",
    "    return model"
   ]
  },
  {
   "cell_type": "code",
   "execution_count": 3,
   "metadata": {
    "scrolled": true
   },
   "outputs": [
    {
     "ename": "NameError",
     "evalue": "name 'img_rows' is not defined",
     "output_type": "error",
     "traceback": [
      "\u001b[0;31m---------------------------------------------------------------------------\u001b[0m",
      "\u001b[0;31mNameError\u001b[0m                                 Traceback (most recent call last)",
      "\u001b[0;32m<ipython-input-3-6e40e644d5f3>\u001b[0m in \u001b[0;36m<module>\u001b[0;34m\u001b[0m\n\u001b[0;32m----> 1\u001b[0;31m \u001b[0mmodel\u001b[0m \u001b[0;34m=\u001b[0m \u001b[0mget_unet\u001b[0m\u001b[0;34m(\u001b[0m\u001b[0;34m)\u001b[0m\u001b[0;34m\u001b[0m\u001b[0;34m\u001b[0m\u001b[0m\n\u001b[0m\u001b[1;32m      2\u001b[0m \u001b[0;34m\u001b[0m\u001b[0m\n\u001b[1;32m      3\u001b[0m model.compile(optimizer=Adam(lr=1e-4), \n\u001b[1;32m      4\u001b[0m               \u001b[0mloss\u001b[0m\u001b[0;34m=\u001b[0m\u001b[0;34m'binary_crossentropy'\u001b[0m\u001b[0;34m,\u001b[0m\u001b[0;34m\u001b[0m\u001b[0;34m\u001b[0m\u001b[0m\n\u001b[1;32m      5\u001b[0m               metrics=['accuracy', \n",
      "\u001b[0;32m<ipython-input-2-d981b30aa7f6>\u001b[0m in \u001b[0;36mget_unet\u001b[0;34m()\u001b[0m\n\u001b[1;32m     10\u001b[0m     \u001b[0mconcat_axis\u001b[0m \u001b[0;34m=\u001b[0m \u001b[0;36m3\u001b[0m\u001b[0;34m\u001b[0m\u001b[0;34m\u001b[0m\u001b[0m\n\u001b[1;32m     11\u001b[0m \u001b[0;34m\u001b[0m\u001b[0m\n\u001b[0;32m---> 12\u001b[0;31m     \u001b[0minputs\u001b[0m \u001b[0;34m=\u001b[0m \u001b[0mInput\u001b[0m\u001b[0;34m(\u001b[0m\u001b[0mshape\u001b[0m\u001b[0;34m=\u001b[0m\u001b[0;34m[\u001b[0m\u001b[0mimg_rows\u001b[0m\u001b[0;34m,\u001b[0m \u001b[0mimg_cols\u001b[0m\u001b[0;34m,\u001b[0m \u001b[0;36m1\u001b[0m\u001b[0;34m]\u001b[0m\u001b[0;34m)\u001b[0m\u001b[0;34m\u001b[0m\u001b[0;34m\u001b[0m\u001b[0m\n\u001b[0m\u001b[1;32m     13\u001b[0m     \u001b[0mconv1\u001b[0m \u001b[0;34m=\u001b[0m \u001b[0mConvolution2D\u001b[0m\u001b[0;34m(\u001b[0m\u001b[0;36m32\u001b[0m\u001b[0;34m,\u001b[0m \u001b[0;34m(\u001b[0m\u001b[0;36m3\u001b[0m\u001b[0;34m,\u001b[0m \u001b[0;36m3\u001b[0m\u001b[0;34m)\u001b[0m\u001b[0;34m,\u001b[0m \u001b[0mactivation\u001b[0m\u001b[0;34m=\u001b[0m\u001b[0;34m'relu'\u001b[0m\u001b[0;34m,\u001b[0m \u001b[0mpadding\u001b[0m\u001b[0;34m=\u001b[0m\u001b[0;34m'same'\u001b[0m\u001b[0;34m)\u001b[0m\u001b[0;34m(\u001b[0m\u001b[0minputs\u001b[0m\u001b[0;34m)\u001b[0m\u001b[0;34m\u001b[0m\u001b[0;34m\u001b[0m\u001b[0m\n\u001b[1;32m     14\u001b[0m     \u001b[0mconv1\u001b[0m \u001b[0;34m=\u001b[0m \u001b[0mConvolution2D\u001b[0m\u001b[0;34m(\u001b[0m\u001b[0;36m32\u001b[0m\u001b[0;34m,\u001b[0m \u001b[0;34m(\u001b[0m\u001b[0;36m3\u001b[0m\u001b[0;34m,\u001b[0m \u001b[0;36m3\u001b[0m\u001b[0;34m)\u001b[0m\u001b[0;34m,\u001b[0m \u001b[0mactivation\u001b[0m\u001b[0;34m=\u001b[0m\u001b[0;34m'relu'\u001b[0m\u001b[0;34m,\u001b[0m \u001b[0mpadding\u001b[0m\u001b[0;34m=\u001b[0m\u001b[0;34m'same'\u001b[0m\u001b[0;34m)\u001b[0m\u001b[0;34m(\u001b[0m\u001b[0mconv1\u001b[0m\u001b[0;34m)\u001b[0m\u001b[0;34m\u001b[0m\u001b[0;34m\u001b[0m\u001b[0m\n",
      "\u001b[0;31mNameError\u001b[0m: name 'img_rows' is not defined"
     ]
    }
   ],
   "source": [
    "model = get_unet()\n",
    "\n",
    "model.compile(optimizer=Adam(lr=1e-4), \n",
    "              loss='binary_crossentropy', \n",
    "              metrics=['accuracy', \n",
    "                       tf.keras.metrics.MeanIoU(num_classes=2, name='MeanIoU')])\n",
    "\n",
    "checkpoint = ModelCheckpoint(filepath='unet.hdf5', \n",
    "                             monitor='val_MeanIoU', \n",
    "                             verbose=1, \n",
    "                             save_best_only=True, \n",
    "                             mode='max')\n",
    "\n",
    "reduce_lr = ReduceLROnPlateau(monitor='val_MeanIoU', factor=0.5, patience=2, \n",
    "                                   verbose=1, mode='max', min_lr=0.00001)\n",
    "\n",
    "callbacks_list = [checkpoint, reduce_lr]\n",
    "\n",
    "history = model.fit(X_train,\n",
    "                    y_train,\n",
    "                    batch_size=8,\n",
    "                    validation_data=(X_test, y_test),\n",
    "                    validation_steps=8,\n",
    "                    epochs=30, \n",
    "                    verbose=1,\n",
    "                    callbacks=callbacks_list)"
   ]
  },
  {
   "cell_type": "code",
   "execution_count": null,
   "metadata": {},
   "outputs": [],
   "source": [
    "# print('-'*30)\n",
    "# print('Loading and preprocessing test data...')\n",
    "# print('-'*30)\n",
    "# imgs_test, imgs_id_test = load_test_data()\n",
    "# imgs_test = load_test_data()\n",
    "# imgs_test = preprocess(imgs_test)\n",
    "\n",
    "# imgs_test = imgs_test.astype('float32')\n",
    "# imgs_test -= mean\n",
    "# imgs_test /= std\n",
    "model = get_unet()\n",
    "model.load_weights('unet.hdf5')\n",
    "imgs_mask_test = model.predict(X_test)"
   ]
  },
  {
   "cell_type": "code",
   "execution_count": null,
   "metadata": {},
   "outputs": [],
   "source": [
    "img_index = random.randint(0, len(X_test))\n",
    "\n",
    "plt.imshow(imgs_mask_test[img_index].reshape(img_rows, img_cols), cmap='gray')\n",
    "plt.show()\n",
    "\n",
    "plt.imshow(y_test[img_index].reshape(img_rows, img_cols), cmap='gray')\n",
    "plt.show()\n",
    "\n",
    "# plt.imshow(imgs_mask_test)"
   ]
  },
  {
   "cell_type": "code",
   "execution_count": null,
   "metadata": {
    "scrolled": true
   },
   "outputs": [],
   "source": [
    "test_data_path = os.path.join(data_path, 'test/')\n",
    "images = sorted(os.listdir(test_data_path))\n",
    "total = len(images)\n",
    "raw_imgs = []\n",
    "imgs = np.ndarray((total, image_rows, image_cols, 1), dtype=np.uint8)\n",
    "\n",
    "i = 0\n",
    "print('-'*30)\n",
    "print('Creating test images...')\n",
    "print('-'*30)\n",
    "for image_name in images:\n",
    "    # Read RGB image\n",
    "    img = cv2.imread(os.path.join(test_data_path, image_name))\n",
    "    raw_imgs.append(img)\n",
    "    # Convert to grayscale\n",
    "    gray_image = cv2.cvtColor(img, cv2.COLOR_BGR2GRAY)\n",
    "    # Rescale to image_rows x image_cols size\n",
    "    resized_image = cv2.resize(gray_image, (image_cols, image_rows))\n",
    "    resized_image = resized_image.reshape(resized_image.shape + (1,))\n",
    "    img = np.array(resized_image)\n",
    "    imgs[i] = img\n",
    "    print('Done: {0}/{1} images'.format(i, total))\n",
    "    i += 1\n",
    "print('Loading done.')\n",
    "\n",
    "np.save('imgs_test.npy', imgs)\n",
    "print('Saving to .npy files done.')"
   ]
  },
  {
   "cell_type": "code",
   "execution_count": null,
   "metadata": {},
   "outputs": [],
   "source": [
    "imgs_test = np.load('imgs_test.npy')\n",
    "\n",
    "test = preprocess(imgs_test)\n",
    "test = test.astype('float32')\n",
    "mean = np.mean(test)  # mean for data centering\n",
    "std = np.std(test)  # std for data normalization\n",
    "\n",
    "test -= mean\n",
    "test /= std"
   ]
  },
  {
   "cell_type": "code",
   "execution_count": null,
   "metadata": {
    "scrolled": true
   },
   "outputs": [],
   "source": [
    "model = get_unet()\n",
    "model.load_weights('unet.hdf5')\n",
    "prediction = model.predict(test)"
   ]
  },
  {
   "cell_type": "code",
   "execution_count": null,
   "metadata": {
    "scrolled": true
   },
   "outputs": [],
   "source": [
    "img_index = random.randint(0, len(test))\n",
    "\n",
    "plt.imshow(cv2.cvtColor(raw_imgs[img_index], cv2.COLOR_BGR2RGB))\n",
    "plt.show()\n",
    "\n",
    "# plt.imshow(test[img_index].reshape(img_rows, img_cols), cmap='gray')\n",
    "# plt.show()\n",
    "\n",
    "# plt.imshow(prediction[img_index].reshape(img_rows, img_cols), cmap='gray')\n",
    "# plt.show()\n",
    "\n",
    "img = cv2.resize(cv2.cvtColor(raw_imgs[img_index], cv2.COLOR_BGR2RGB), (240, 192))\n",
    "mask = cv2.inRange(cv2.cvtColor(prediction[img_index], cv2.COLOR_GRAY2RGB),\n",
    "                   (0.9, 0.9, 0.9),\n",
    "                   (1, 1, 1))\n",
    "\n",
    "# Create a blank 300x300 black image\n",
    "red = np.zeros((192, 240, 3), np.uint8)\n",
    "# Fill image with red color(set each pixel to red)\n",
    "red[:] = (0, 50, 0)\n",
    "\n",
    "plt.imshow(img + cv2.bitwise_and(red, red, mask=mask))"
   ]
  },
  {
   "cell_type": "code",
   "execution_count": null,
   "metadata": {},
   "outputs": [],
   "source": [
    "## mask = (prediction[img_index].reshape(img_rows, img_cols) > 9e-1)\n",
    "c = cv2.cvtColor(raw_imgs[img_index], cv2.COLOR_BGR2RGB)\n",
    "img= cv2.resize(img, (240, 192))\n",
    "\n",
    "print(np.shape(img))\n",
    "kk = cv2.cvtColor(prediction[img_index], cv2.COLOR_GRAY2RGB)\n",
    "print(np.shape(kk))\n",
    "mask = cv2.inRange(kk, (0.9, 0.9, 0.9), (1, 1, 1))\n",
    "\n",
    "plt.imshow(cv2.bitwise_and(img, img, mask=mask))\n",
    "plt.show()\n",
    "plt.imshow(img)\n",
    "plt.show()"
   ]
  },
  {
   "cell_type": "code",
   "execution_count": null,
   "metadata": {
    "scrolled": true
   },
   "outputs": [],
   "source": [
    "kk"
   ]
  },
  {
   "cell_type": "code",
   "execution_count": null,
   "metadata": {},
   "outputs": [],
   "source": [
    "plt.imshow((prediction[0].reshape(img_rows, img_cols) > 0.01) & (prediction[0].reshape(img_rows, img_cols) < 0.8))\n",
    "plt.show()\n",
    "\n",
    "plt.imshow(prediction[0].reshape(img_rows, img_cols), cmap='gray')\n",
    "plt.show()"
   ]
  }
 ],
 "metadata": {
  "kernelspec": {
   "display_name": "pground",
   "language": "python",
   "name": "pground"
  },
  "language_info": {
   "codemirror_mode": {
    "name": "ipython",
    "version": 3
   },
   "file_extension": ".py",
   "mimetype": "text/x-python",
   "name": "python",
   "nbconvert_exporter": "python",
   "pygments_lexer": "ipython3",
   "version": "3.7.6"
  }
 },
 "nbformat": 4,
 "nbformat_minor": 2
}
